{
 "cells": [
  {
   "cell_type": "markdown",
   "metadata": {},
   "source": [
    "# Preamble"
   ]
  },
  {
   "cell_type": "code",
   "execution_count": 95,
   "metadata": {},
   "outputs": [],
   "source": [
    "import numpy as np \n",
    "import matplotlib.pyplot as plt\n",
    "import matplotlib.cm as cm\n",
    "import pandas as pd\n",
    "from datetime import datetime, timedelta\n",
    "from sklearn.cluster import KMeans\n",
    "from sklearn.cluster import SpectralClustering\n",
    "import seaborn as sns\n",
    "from sklearn.model_selection import train_test_split\n",
    "from sklearn.model_selection import GridSearchCV, RandomizedSearchCV\n",
    "from sklearn.preprocessing import StandardScaler\n",
    "from sklearn.neighbors import KNeighborsRegressor\n",
    "import statsmodels.api as sm\n",
    "import os\n",
    "import xgboost as xgb\n",
    "#import cartopy.crs as ccrs\n",
    "from sklearn import tree\n",
    "from sklearn.externals.six import StringIO\n",
    "import pydotplus\n",
    "from IPython.display import Image, display\n",
    "import time\n",
    "\n",
    "from matplotlib.pylab import rcParams\n",
    "rcParams['figure.figsize'] = 12, 6\n",
    "rcParams.update({'font.size': 18})\n",
    "rcParams.update({'figure.autolayout': False})\n",
    "\n",
    "colours = ['#1f77b4', '#ff7f0e', '#2ca02c', '#d62728', '#9467bd', '#8c564b', '#e377c2', '#4f4f4f', '#bcbd22', '#17becf', \n",
    "           '#0f67a4', '#ef6f00', '#1c901c', '#c61718', '#8457ad', '#7c463b', '#d367b2', '#3f3f3f', '#acad12', '#07aebf', \n",
    "           '#2f87c4', '#ff8f1e', '#3cb03c', '#e63738', '#a477cd', '#9c665b', '#f387d2', '#5f5f5f', '#cccd32', '#27cedf']"
   ]
  },
  {
   "cell_type": "markdown",
   "metadata": {},
   "source": [
    "# Pre-processing"
   ]
  },
  {
   "cell_type": "markdown",
   "metadata": {},
   "source": [
    "## Load data"
   ]
  },
  {
   "cell_type": "code",
   "execution_count": 96,
   "metadata": {},
   "outputs": [],
   "source": [
    "data = pd.read_csv('A2B_Training_Dataset.csv')"
   ]
  },
  {
   "cell_type": "code",
   "execution_count": 97,
   "metadata": {},
   "outputs": [],
   "source": [
    "# load data and parse dates\n",
    "data = pd.read_csv('A2B_Training_Dataset.csv')\n",
    "\n",
    "data.drop(columns=['Unnamed: 0', 'BookingID'], inplace=True)\n",
    "\n",
    "data['M_On_Time'] = pd.to_datetime(data['M_On_Time'])\n",
    "data['M_Off_Time'] = pd.to_datetime(data['M_Off_Time'])"
   ]
  },
  {
   "cell_type": "code",
   "execution_count": 98,
   "metadata": {},
   "outputs": [
    {
     "data": {
      "text/html": [
       "<div>\n",
       "<style scoped>\n",
       "    .dataframe tbody tr th:only-of-type {\n",
       "        vertical-align: middle;\n",
       "    }\n",
       "\n",
       "    .dataframe tbody tr th {\n",
       "        vertical-align: top;\n",
       "    }\n",
       "\n",
       "    .dataframe thead th {\n",
       "        text-align: right;\n",
       "    }\n",
       "</style>\n",
       "<table border=\"1\" class=\"dataframe\">\n",
       "  <thead>\n",
       "    <tr style=\"text-align: right;\">\n",
       "      <th></th>\n",
       "      <th>M_On_Time</th>\n",
       "      <th>Lat_M_On</th>\n",
       "      <th>Long_M_On</th>\n",
       "      <th>M_Off_Time</th>\n",
       "      <th>Lat_M_Off</th>\n",
       "      <th>Long_M_Off</th>\n",
       "      <th>City</th>\n",
       "      <th>Dest_Suburb</th>\n",
       "      <th>DelJobDistance</th>\n",
       "      <th>DelJobTime</th>\n",
       "      <th>ChargesPrice</th>\n",
       "      <th>ChargesExtra</th>\n",
       "      <th>ChargesFlagfall</th>\n",
       "    </tr>\n",
       "  </thead>\n",
       "  <tbody>\n",
       "    <tr>\n",
       "      <th>0</th>\n",
       "      <td>2019-07-23 06:54:39</td>\n",
       "      <td>-30.353364</td>\n",
       "      <td>153.094583</td>\n",
       "      <td>2019-07-23 07:03:24</td>\n",
       "      <td>-30.322766</td>\n",
       "      <td>153.115583</td>\n",
       "      <td>Tamworth</td>\n",
       "      <td>Coffs Harbour Airport</td>\n",
       "      <td>6000</td>\n",
       "      <td>525</td>\n",
       "      <td>14.1</td>\n",
       "      <td>2.3</td>\n",
       "      <td>4.1</td>\n",
       "    </tr>\n",
       "    <tr>\n",
       "      <th>1</th>\n",
       "      <td>2019-09-04 16:35:27</td>\n",
       "      <td>-30.310815</td>\n",
       "      <td>153.105125</td>\n",
       "      <td>2019-09-04 16:42:51</td>\n",
       "      <td>-30.287417</td>\n",
       "      <td>153.117083</td>\n",
       "      <td>Tamworth</td>\n",
       "      <td>Coffs Harbour</td>\n",
       "      <td>4150</td>\n",
       "      <td>444</td>\n",
       "      <td>10.9</td>\n",
       "      <td>2.3</td>\n",
       "      <td>4.1</td>\n",
       "    </tr>\n",
       "    <tr>\n",
       "      <th>2</th>\n",
       "      <td>2019-10-04 09:55:13</td>\n",
       "      <td>-33.824073</td>\n",
       "      <td>151.172659</td>\n",
       "      <td>2019-10-04 09:55:36</td>\n",
       "      <td>-33.825171</td>\n",
       "      <td>151.174209</td>\n",
       "      <td>Sydney</td>\n",
       "      <td>Sydney</td>\n",
       "      <td>500</td>\n",
       "      <td>23</td>\n",
       "      <td>1.4</td>\n",
       "      <td>1.1</td>\n",
       "      <td>3.6</td>\n",
       "    </tr>\n",
       "    <tr>\n",
       "      <th>3</th>\n",
       "      <td>2019-08-29 20:04:59</td>\n",
       "      <td>-33.888697</td>\n",
       "      <td>151.208008</td>\n",
       "      <td>2019-08-29 20:21:39</td>\n",
       "      <td>-33.871832</td>\n",
       "      <td>151.252742</td>\n",
       "      <td>Sydney</td>\n",
       "      <td>Bellevue Hill</td>\n",
       "      <td>7850</td>\n",
       "      <td>1000</td>\n",
       "      <td>21.3</td>\n",
       "      <td>3.6</td>\n",
       "      <td>3.6</td>\n",
       "    </tr>\n",
       "    <tr>\n",
       "      <th>4</th>\n",
       "      <td>2019-09-19 02:56:22</td>\n",
       "      <td>-33.883459</td>\n",
       "      <td>151.159525</td>\n",
       "      <td>2019-09-19 03:06:43</td>\n",
       "      <td>-33.896778</td>\n",
       "      <td>151.152915</td>\n",
       "      <td>Sydney</td>\n",
       "      <td>Ashfield</td>\n",
       "      <td>2250</td>\n",
       "      <td>627</td>\n",
       "      <td>11.8</td>\n",
       "      <td>3.6</td>\n",
       "      <td>3.6</td>\n",
       "    </tr>\n",
       "  </tbody>\n",
       "</table>\n",
       "</div>"
      ],
      "text/plain": [
       "            M_On_Time   Lat_M_On   Long_M_On          M_Off_Time  Lat_M_Off  \\\n",
       "0 2019-07-23 06:54:39 -30.353364  153.094583 2019-07-23 07:03:24 -30.322766   \n",
       "1 2019-09-04 16:35:27 -30.310815  153.105125 2019-09-04 16:42:51 -30.287417   \n",
       "2 2019-10-04 09:55:13 -33.824073  151.172659 2019-10-04 09:55:36 -33.825171   \n",
       "3 2019-08-29 20:04:59 -33.888697  151.208008 2019-08-29 20:21:39 -33.871832   \n",
       "4 2019-09-19 02:56:22 -33.883459  151.159525 2019-09-19 03:06:43 -33.896778   \n",
       "\n",
       "   Long_M_Off      City            Dest_Suburb  DelJobDistance  DelJobTime  \\\n",
       "0  153.115583  Tamworth  Coffs Harbour Airport            6000         525   \n",
       "1  153.117083  Tamworth          Coffs Harbour            4150         444   \n",
       "2  151.174209    Sydney                 Sydney             500          23   \n",
       "3  151.252742    Sydney          Bellevue Hill            7850        1000   \n",
       "4  151.152915    Sydney               Ashfield            2250         627   \n",
       "\n",
       "   ChargesPrice  ChargesExtra  ChargesFlagfall  \n",
       "0          14.1           2.3              4.1  \n",
       "1          10.9           2.3              4.1  \n",
       "2           1.4           1.1              3.6  \n",
       "3          21.3           3.6              3.6  \n",
       "4          11.8           3.6              3.6  "
      ]
     },
     "execution_count": 98,
     "metadata": {},
     "output_type": "execute_result"
    }
   ],
   "source": [
    "data.head()"
   ]
  },
  {
   "cell_type": "markdown",
   "metadata": {},
   "source": [
    "## Remove outliers\n",
    "Outmost 1% from distance, time and charges price"
   ]
  },
  {
   "cell_type": "code",
   "execution_count": 99,
   "metadata": {},
   "outputs": [],
   "source": [
    "inliers = data.loc[data['DelJobDistance'].between(data['DelJobDistance'].quantile(0.01), data['DelJobDistance'].quantile(0.99)) & \\\n",
    "                   data['DelJobTime'].between(data['DelJobTime'].quantile(0.01), data['DelJobTime'].quantile(0.99)) & \\\n",
    "                   data['ChargesPrice'].between(data['ChargesPrice'].quantile(0.01), data['ChargesPrice'].quantile(0.99))].index\n",
    "\n",
    "data = data.loc[inliers]"
   ]
  },
  {
   "cell_type": "markdown",
   "metadata": {},
   "source": [
    "## Separate cities"
   ]
  },
  {
   "cell_type": "code",
   "execution_count": 100,
   "metadata": {},
   "outputs": [],
   "source": [
    "data['City'].where((data['City']=='Sydney') | (data['Long_M_On']<=152), 'Coffs Harbour', inplace=True)"
   ]
  },
  {
   "cell_type": "code",
   "execution_count": 101,
   "metadata": {},
   "outputs": [
    {
     "data": {
      "image/png": "[encoded data removed]",
      "text/plain": [
       "<Figure size 3600x1800 with 1 Axes>"
      ]
     },
     "metadata": {
      "needs_background": "light"
     },
     "output_type": "display_data"
    }
   ],
   "source": [
    "plt.figure(dpi=300)\n",
    "\n",
    "plt.scatter(data.loc[data['City']=='Sydney',['Long_M_On']],data.loc[data['City']=='Sydney',['Lat_M_On']], label='Sydney', s=1.5, alpha=0.5)\n",
    "plt.scatter(data.loc[data['City']=='Tamworth',['Long_M_On']],data.loc[data['City']=='Tamworth',['Lat_M_On']], label='Tamworth', s=1.5, alpha=0.5)\n",
    "plt.scatter(data.loc[data['City']=='Coffs Harbour',['Long_M_On']],data.loc[data['City']=='Coffs Harbour',['Lat_M_On']], label='Coff\\'s Harbour', s=1.5, alpha=0.5)\n",
    "\n",
    "plt.xlabel('Starting longitude')\n",
    "plt.ylabel('Starting latitude')\n",
    "plt.legend(framealpha=0)\n",
    "\n",
    "plt.savefig('city_split.png', transparent=True)"
   ]
  },
  {
   "cell_type": "markdown",
   "metadata": {},
   "source": [
    "## Train/Test split"
   ]
  },
  {
   "cell_type": "code",
   "execution_count": 102,
   "metadata": {},
   "outputs": [],
   "source": [
    "train_index, test_index = train_test_split(data.index, test_size=0.3, shuffle=True, random_state=212)\n",
    "\n",
    "# The data isn't split into training and testing yet, but any preprocessing that uses data to train on\n",
    "# (e.g. standardising) must be trained/fit on the training indices"
   ]
  },
  {
   "cell_type": "markdown",
   "metadata": {},
   "source": [
    "## Time"
   ]
  },
  {
   "cell_type": "code",
   "execution_count": 103,
   "metadata": {},
   "outputs": [],
   "source": [
    "weekday_names = ['Monday', 'Tuesday', 'Wednesday', 'Thursday', 'Friday', 'Saturday', 'Sunday']\n",
    "\n",
    "data['day_of_week'] = [weekday_names[i] for i in data['M_On_Time'].dt.dayofweek]\n",
    "data['time_of_day'] = (data['M_On_Time'].dt.hour + data['M_On_Time'].dt.minute/60) /  24    # between 0 and 1\n",
    "\n",
    "# Labour day public holiday 7th October 2019\n",
    "data['is_public_holiday'] = ((data['M_On_Time'].dt.date == datetime.strptime('2019-10-07','%Y-%m-%d').date()) & \n",
    "                             ((data['M_On_Time'].dt.hour>=6) & \n",
    "                              (data['M_On_Time'].dt.hour<22)))\n",
    "\n",
    "data['is_daylight'] = ((data['M_On_Time'].dt.hour>=6) & (data['M_On_Time'].dt.hour<22))"
   ]
  },
  {
   "cell_type": "markdown",
   "metadata": {},
   "source": [
    "## Location"
   ]
  },
  {
   "cell_type": "markdown",
   "metadata": {},
   "source": [
    "### Distance and bearings functions"
   ]
  },
  {
   "cell_type": "code",
   "execution_count": 104,
   "metadata": {},
   "outputs": [],
   "source": [
    "# Calcluate distances from Sydney city centre\n",
    "# https://www.movable-type.co.uk/scripts/latlong.html\n",
    "def dist_lat_long(lat1, long1, lat2, long2):\n",
    "    R = 6371 # km\n",
    "    \n",
    "    lat1 = np.radians(lat1)\n",
    "    long1 = np.radians(long1)\n",
    "    lat2 = np.radians(lat2)\n",
    "    long2 = np.radians(long2)\n",
    "    \n",
    "    a = np.sin((lat2-lat1) / 2)**2 / 2 \\\n",
    "          + np.cos(lat1) * np.cos(lat2) * np.sin((long2-long1) / 2)**2\n",
    "    c = 2 * np.arctan2(np.sqrt(a), np.sqrt(1-a))\n",
    "    \n",
    "    return R * c"
   ]
  },
  {
   "cell_type": "code",
   "execution_count": 105,
   "metadata": {},
   "outputs": [],
   "source": [
    "def bearing_lat_long(lat1, long1, lat2, long2):\n",
    "\n",
    "    lat1 = np.radians(lat1)\n",
    "    long1 = np.radians(long1)\n",
    "    lat2 = np.radians(lat2)\n",
    "    long2 = np.radians(long2)\n",
    "    \n",
    "    y = np.sin(long2 - long1) * np.cos(lat2)\n",
    "    x = np.cos(lat1) * np.sin(lat2) - np.sin(lat1) * np.cos(lat2) * np.cos(long2 - long1)\n",
    "\n",
    "    b = np.arctan2(y, x)\n",
    "\n",
    "    return np.degrees(b) + 180"
   ]
  },
  {
   "cell_type": "code",
   "execution_count": 106,
   "metadata": {},
   "outputs": [],
   "source": [
    "def journey_direction(lat_start, long_start, lat_end, long_end):\n",
    "    bearing = bearing_lat_long(lat_start, long_start, lat_end, long_end)\n",
    "\n",
    "    return bearing"
   ]
  },
  {
   "cell_type": "markdown",
   "metadata": {},
   "source": [
    "### Calculate distances and bearings from city centre"
   ]
  },
  {
   "cell_type": "code",
   "execution_count": 107,
   "metadata": {},
   "outputs": [],
   "source": [
    "city_names = ['Sydney', 'Tamworth', 'Coffs Harbour']\n",
    "\n",
    "city_centres = np.array([[-33.87097, 151.207285],       # Sydney\n",
    "                         [-31.09705608, 150.91959076],  # Tamworth\n",
    "                         [-30.30256865, 153.11363909]]) # Coffs Harbour\n",
    "\n",
    "data['on_disp_from_city_centre'] = np.nan\n",
    "data['off_disp_from_city_centre'] = np.nan\n",
    "data['on_bearing_from_city_centre'] = np.nan\n",
    "data['off_bearing_from_city_centre'] = np.nan\n",
    "\n",
    "for city, city_centre in zip(city_names, city_centres):\n",
    "\n",
    "    data.loc[data['City']==city,['on_disp_from_city_centre']] = dist_lat_long(city_centre[0], \n",
    "                                                                              city_centre[1], \n",
    "                                                                              data.loc[data['City']==city]['Lat_M_On'], \n",
    "                                                                              data.loc[data['City']==city]['Long_M_On'])\n",
    "    data.loc[data['City']==city,['off_disp_from_city_centre']] = dist_lat_long(city_centre[0], \n",
    "                                                                               city_centre[1], \n",
    "                                                                               data.loc[data['City']==city]['Lat_M_Off'], \n",
    "                                                                               data.loc[data['City']==city]['Long_M_Off'])\n",
    "\n",
    "    data.loc[data['City']==city,['on_bearing_from_city_centre']] = bearing_lat_long(city_centre[0], \n",
    "                                                                                    city_centre[1],\n",
    "                                                                                    data.loc[data['City']==city]['Lat_M_On'], \n",
    "                                                                                    data.loc[data['City']==city]['Long_M_On'])\n",
    "    data.loc[data['City']==city,['off_bearing_from_city_centre']] = bearing_lat_long(city_centre[0], \n",
    "                                                                                     city_centre[1],\n",
    "                                                                                     data.loc[data['City']==city]['Lat_M_Off'], \n",
    "                                                                                     data.loc[data['City']==city]['Long_M_Off'])\n",
    "                        \n",
    "        \n",
    "data['journey_displacement'] = dist_lat_long(data['Lat_M_Off'], data['Long_M_Off'], data['Lat_M_On'], data['Long_M_On'])\n",
    "\n",
    "data['journey_direction'] = journey_direction(data['Lat_M_Off'], data['Long_M_Off'], data['Lat_M_On'], data['Long_M_On'])"
   ]
  },
  {
   "cell_type": "code",
   "execution_count": 108,
   "metadata": {},
   "outputs": [
    {
     "data": {
      "text/html": [
       "<div>\n",
       "<style scoped>\n",
       "    .dataframe tbody tr th:only-of-type {\n",
       "        vertical-align: middle;\n",
       "    }\n",
       "\n",
       "    .dataframe tbody tr th {\n",
       "        vertical-align: top;\n",
       "    }\n",
       "\n",
       "    .dataframe thead th {\n",
       "        text-align: right;\n",
       "    }\n",
       "</style>\n",
       "<table border=\"1\" class=\"dataframe\">\n",
       "  <thead>\n",
       "    <tr style=\"text-align: right;\">\n",
       "      <th></th>\n",
       "      <th>M_On_Time</th>\n",
       "      <th>Lat_M_On</th>\n",
       "      <th>Long_M_On</th>\n",
       "      <th>M_Off_Time</th>\n",
       "      <th>Lat_M_Off</th>\n",
       "      <th>Long_M_Off</th>\n",
       "      <th>City</th>\n",
       "      <th>Dest_Suburb</th>\n",
       "      <th>DelJobDistance</th>\n",
       "      <th>DelJobTime</th>\n",
       "      <th>...</th>\n",
       "      <th>day_of_week</th>\n",
       "      <th>time_of_day</th>\n",
       "      <th>is_public_holiday</th>\n",
       "      <th>is_daylight</th>\n",
       "      <th>on_disp_from_city_centre</th>\n",
       "      <th>off_disp_from_city_centre</th>\n",
       "      <th>on_bearing_from_city_centre</th>\n",
       "      <th>off_bearing_from_city_centre</th>\n",
       "      <th>journey_displacement</th>\n",
       "      <th>journey_direction</th>\n",
       "    </tr>\n",
       "  </thead>\n",
       "  <tbody>\n",
       "    <tr>\n",
       "      <th>0</th>\n",
       "      <td>2019-07-23 06:54:39</td>\n",
       "      <td>-30.353364</td>\n",
       "      <td>153.094583</td>\n",
       "      <td>2019-07-23 07:03:24</td>\n",
       "      <td>-30.322766</td>\n",
       "      <td>153.115583</td>\n",
       "      <td>Coffs Harbour</td>\n",
       "      <td>Coffs Harbour Airport</td>\n",
       "      <td>6000</td>\n",
       "      <td>525</td>\n",
       "      <td>...</td>\n",
       "      <td>Tuesday</td>\n",
       "      <td>0.287500</td>\n",
       "      <td>False</td>\n",
       "      <td>True</td>\n",
       "      <td>4.392688</td>\n",
       "      <td>1.598981</td>\n",
       "      <td>17.937720</td>\n",
       "      <td>355.250034</td>\n",
       "      <td>3.138365</td>\n",
       "      <td>30.634805</td>\n",
       "    </tr>\n",
       "    <tr>\n",
       "      <th>1</th>\n",
       "      <td>2019-09-04 16:35:27</td>\n",
       "      <td>-30.310815</td>\n",
       "      <td>153.105125</td>\n",
       "      <td>2019-09-04 16:42:51</td>\n",
       "      <td>-30.287417</td>\n",
       "      <td>153.117083</td>\n",
       "      <td>Coffs Harbour</td>\n",
       "      <td>Coffs Harbour</td>\n",
       "      <td>4150</td>\n",
       "      <td>444</td>\n",
       "      <td>...</td>\n",
       "      <td>Wednesday</td>\n",
       "      <td>0.690972</td>\n",
       "      <td>False</td>\n",
       "      <td>True</td>\n",
       "      <td>1.043286</td>\n",
       "      <td>1.236379</td>\n",
       "      <td>41.710702</td>\n",
       "      <td>191.105350</td>\n",
       "      <td>2.168555</td>\n",
       "      <td>23.807357</td>\n",
       "    </tr>\n",
       "    <tr>\n",
       "      <th>3</th>\n",
       "      <td>2019-08-29 20:04:59</td>\n",
       "      <td>-33.888697</td>\n",
       "      <td>151.208008</td>\n",
       "      <td>2019-08-29 20:21:39</td>\n",
       "      <td>-33.871832</td>\n",
       "      <td>151.252742</td>\n",
       "      <td>Sydney</td>\n",
       "      <td>Bellevue Hill</td>\n",
       "      <td>7850</td>\n",
       "      <td>1000</td>\n",
       "      <td>...</td>\n",
       "      <td>Thursday</td>\n",
       "      <td>0.836111</td>\n",
       "      <td>False</td>\n",
       "      <td>True</td>\n",
       "      <td>1.395406</td>\n",
       "      <td>4.197292</td>\n",
       "      <td>358.060250</td>\n",
       "      <td>271.321410</td>\n",
       "      <td>4.337216</td>\n",
       "      <td>65.564299</td>\n",
       "    </tr>\n",
       "    <tr>\n",
       "      <th>4</th>\n",
       "      <td>2019-09-19 02:56:22</td>\n",
       "      <td>-33.883459</td>\n",
       "      <td>151.159525</td>\n",
       "      <td>2019-09-19 03:06:43</td>\n",
       "      <td>-33.896778</td>\n",
       "      <td>151.152915</td>\n",
       "      <td>Sydney</td>\n",
       "      <td>Ashfield</td>\n",
       "      <td>2250</td>\n",
       "      <td>627</td>\n",
       "      <td>...</td>\n",
       "      <td>Thursday</td>\n",
       "      <td>0.122222</td>\n",
       "      <td>False</td>\n",
       "      <td>False</td>\n",
       "      <td>4.517098</td>\n",
       "      <td>5.413624</td>\n",
       "      <td>72.503519</td>\n",
       "      <td>60.224556</td>\n",
       "      <td>1.212011</td>\n",
       "      <td>202.393058</td>\n",
       "    </tr>\n",
       "    <tr>\n",
       "      <th>5</th>\n",
       "      <td>2019-10-04 10:04:19</td>\n",
       "      <td>-33.894879</td>\n",
       "      <td>151.182564</td>\n",
       "      <td>2019-10-04 10:18:19</td>\n",
       "      <td>-33.875360</td>\n",
       "      <td>151.203414</td>\n",
       "      <td>Sydney</td>\n",
       "      <td>Newtown</td>\n",
       "      <td>3500</td>\n",
       "      <td>845</td>\n",
       "      <td>...</td>\n",
       "      <td>Friday</td>\n",
       "      <td>0.419444</td>\n",
       "      <td>False</td>\n",
       "      <td>True</td>\n",
       "      <td>2.956654</td>\n",
       "      <td>0.496883</td>\n",
       "      <td>40.634601</td>\n",
       "      <td>36.210906</td>\n",
       "      <td>2.461621</td>\n",
       "      <td>41.558493</td>\n",
       "    </tr>\n",
       "  </tbody>\n",
       "</table>\n",
       "<p>5 rows × 23 columns</p>\n",
       "</div>"
      ],
      "text/plain": [
       "            M_On_Time   Lat_M_On   Long_M_On          M_Off_Time  Lat_M_Off  \\\n",
       "0 2019-07-23 06:54:39 -30.353364  153.094583 2019-07-23 07:03:24 -30.322766   \n",
       "1 2019-09-04 16:35:27 -30.310815  153.105125 2019-09-04 16:42:51 -30.287417   \n",
       "3 2019-08-29 20:04:59 -33.888697  151.208008 2019-08-29 20:21:39 -33.871832   \n",
       "4 2019-09-19 02:56:22 -33.883459  151.159525 2019-09-19 03:06:43 -33.896778   \n",
       "5 2019-10-04 10:04:19 -33.894879  151.182564 2019-10-04 10:18:19 -33.875360   \n",
       "\n",
       "   Long_M_Off           City            Dest_Suburb  DelJobDistance  \\\n",
       "0  153.115583  Coffs Harbour  Coffs Harbour Airport            6000   \n",
       "1  153.117083  Coffs Harbour          Coffs Harbour            4150   \n",
       "3  151.252742         Sydney          Bellevue Hill            7850   \n",
       "4  151.152915         Sydney               Ashfield            2250   \n",
       "5  151.203414         Sydney                Newtown            3500   \n",
       "\n",
       "   DelJobTime  ...  day_of_week  time_of_day  is_public_holiday is_daylight  \\\n",
       "0         525  ...      Tuesday     0.287500              False        True   \n",
       "1         444  ...    Wednesday     0.690972              False        True   \n",
       "3        1000  ...     Thursday     0.836111              False        True   \n",
       "4         627  ...     Thursday     0.122222              False       False   \n",
       "5         845  ...       Friday     0.419444              False        True   \n",
       "\n",
       "   on_disp_from_city_centre  off_disp_from_city_centre  \\\n",
       "0                  4.392688                   1.598981   \n",
       "1                  1.043286                   1.236379   \n",
       "3                  1.395406                   4.197292   \n",
       "4                  4.517098                   5.413624   \n",
       "5                  2.956654                   0.496883   \n",
       "\n",
       "   on_bearing_from_city_centre  off_bearing_from_city_centre  \\\n",
       "0                    17.937720                    355.250034   \n",
       "1                    41.710702                    191.105350   \n",
       "3                   358.060250                    271.321410   \n",
       "4                    72.503519                     60.224556   \n",
       "5                    40.634601                     36.210906   \n",
       "\n",
       "   journey_displacement  journey_direction  \n",
       "0              3.138365          30.634805  \n",
       "1              2.168555          23.807357  \n",
       "3              4.337216          65.564299  \n",
       "4              1.212011         202.393058  \n",
       "5              2.461621          41.558493  \n",
       "\n",
       "[5 rows x 23 columns]"
      ]
     },
     "execution_count": 108,
     "metadata": {},
     "output_type": "execute_result"
    }
   ],
   "source": [
    "data.head()"
   ]
  },
  {
   "cell_type": "markdown",
   "metadata": {},
   "source": [
    "### Standardise distances and scale directions\n",
    "\n",
    "Distances scaled to have s.d. = 1 (remaining positive)  \n",
    "Directions scaled to be between 0 and 1, per advice from Jiahao"
   ]
  },
  {
   "cell_type": "code",
   "execution_count": 109,
   "metadata": {},
   "outputs": [],
   "source": [
    "def scale_direction(a):\n",
    "    b = a / 360\n",
    "    return b"
   ]
  },
  {
   "cell_type": "code",
   "execution_count": 110,
   "metadata": {},
   "outputs": [],
   "source": [
    "dist_scalers = []\n",
    "\n",
    "standardise_distance_columns = ['on_disp_from_city_centre', 'off_disp_from_city_centre', \n",
    "                                'journey_displacement']\n",
    "standardise_direction_columns = ['on_bearing_from_city_centre', 'off_bearing_from_city_centre', \n",
    "                                 'journey_direction']\n",
    "\n",
    "\n",
    "for col in standardise_distance_columns:\n",
    "    scaler = StandardScaler(with_mean=False).fit(data.loc[train_index, [col]]) # train on the training set\n",
    "    \n",
    "    data[col] = scaler.transform(data[col].values.reshape(-1,1))\n",
    "    \n",
    "    dist_scalers.append(scaler)\n",
    "    \n",
    "for col in standardise_direction_columns:\n",
    "    data[col] = scale_direction(data[col])"
   ]
  },
  {
   "cell_type": "markdown",
   "metadata": {},
   "source": [
    "## Create dummy variables for categorical features"
   ]
  },
  {
   "cell_type": "code",
   "execution_count": 111,
   "metadata": {},
   "outputs": [],
   "source": [
    "data = pd.get_dummies(data, drop_first=True, columns=['City', 'day_of_week'])"
   ]
  },
  {
   "cell_type": "code",
   "execution_count": 112,
   "metadata": {},
   "outputs": [
    {
     "data": {
      "text/html": [
       "<div>\n",
       "<style scoped>\n",
       "    .dataframe tbody tr th:only-of-type {\n",
       "        vertical-align: middle;\n",
       "    }\n",
       "\n",
       "    .dataframe tbody tr th {\n",
       "        vertical-align: top;\n",
       "    }\n",
       "\n",
       "    .dataframe thead th {\n",
       "        text-align: right;\n",
       "    }\n",
       "</style>\n",
       "<table border=\"1\" class=\"dataframe\">\n",
       "  <thead>\n",
       "    <tr style=\"text-align: right;\">\n",
       "      <th></th>\n",
       "      <th>M_On_Time</th>\n",
       "      <th>Lat_M_On</th>\n",
       "      <th>Long_M_On</th>\n",
       "      <th>M_Off_Time</th>\n",
       "      <th>Lat_M_Off</th>\n",
       "      <th>Long_M_Off</th>\n",
       "      <th>Dest_Suburb</th>\n",
       "      <th>DelJobDistance</th>\n",
       "      <th>DelJobTime</th>\n",
       "      <th>ChargesPrice</th>\n",
       "      <th>...</th>\n",
       "      <th>journey_displacement</th>\n",
       "      <th>journey_direction</th>\n",
       "      <th>City_Sydney</th>\n",
       "      <th>City_Tamworth</th>\n",
       "      <th>day_of_week_Monday</th>\n",
       "      <th>day_of_week_Saturday</th>\n",
       "      <th>day_of_week_Sunday</th>\n",
       "      <th>day_of_week_Thursday</th>\n",
       "      <th>day_of_week_Tuesday</th>\n",
       "      <th>day_of_week_Wednesday</th>\n",
       "    </tr>\n",
       "  </thead>\n",
       "  <tbody>\n",
       "    <tr>\n",
       "      <th>0</th>\n",
       "      <td>2019-07-23 06:54:39</td>\n",
       "      <td>-30.353364</td>\n",
       "      <td>153.094583</td>\n",
       "      <td>2019-07-23 07:03:24</td>\n",
       "      <td>-30.322766</td>\n",
       "      <td>153.115583</td>\n",
       "      <td>Coffs Harbour Airport</td>\n",
       "      <td>6000</td>\n",
       "      <td>525</td>\n",
       "      <td>14.1</td>\n",
       "      <td>...</td>\n",
       "      <td>0.770542</td>\n",
       "      <td>0.085097</td>\n",
       "      <td>0</td>\n",
       "      <td>0</td>\n",
       "      <td>0</td>\n",
       "      <td>0</td>\n",
       "      <td>0</td>\n",
       "      <td>0</td>\n",
       "      <td>1</td>\n",
       "      <td>0</td>\n",
       "    </tr>\n",
       "    <tr>\n",
       "      <th>1</th>\n",
       "      <td>2019-09-04 16:35:27</td>\n",
       "      <td>-30.310815</td>\n",
       "      <td>153.105125</td>\n",
       "      <td>2019-09-04 16:42:51</td>\n",
       "      <td>-30.287417</td>\n",
       "      <td>153.117083</td>\n",
       "      <td>Coffs Harbour</td>\n",
       "      <td>4150</td>\n",
       "      <td>444</td>\n",
       "      <td>10.9</td>\n",
       "      <td>...</td>\n",
       "      <td>0.532431</td>\n",
       "      <td>0.066132</td>\n",
       "      <td>0</td>\n",
       "      <td>0</td>\n",
       "      <td>0</td>\n",
       "      <td>0</td>\n",
       "      <td>0</td>\n",
       "      <td>0</td>\n",
       "      <td>0</td>\n",
       "      <td>1</td>\n",
       "    </tr>\n",
       "    <tr>\n",
       "      <th>3</th>\n",
       "      <td>2019-08-29 20:04:59</td>\n",
       "      <td>-33.888697</td>\n",
       "      <td>151.208008</td>\n",
       "      <td>2019-08-29 20:21:39</td>\n",
       "      <td>-33.871832</td>\n",
       "      <td>151.252742</td>\n",
       "      <td>Bellevue Hill</td>\n",
       "      <td>7850</td>\n",
       "      <td>1000</td>\n",
       "      <td>21.3</td>\n",
       "      <td>...</td>\n",
       "      <td>1.064888</td>\n",
       "      <td>0.182123</td>\n",
       "      <td>1</td>\n",
       "      <td>0</td>\n",
       "      <td>0</td>\n",
       "      <td>0</td>\n",
       "      <td>0</td>\n",
       "      <td>1</td>\n",
       "      <td>0</td>\n",
       "      <td>0</td>\n",
       "    </tr>\n",
       "    <tr>\n",
       "      <th>4</th>\n",
       "      <td>2019-09-19 02:56:22</td>\n",
       "      <td>-33.883459</td>\n",
       "      <td>151.159525</td>\n",
       "      <td>2019-09-19 03:06:43</td>\n",
       "      <td>-33.896778</td>\n",
       "      <td>151.152915</td>\n",
       "      <td>Ashfield</td>\n",
       "      <td>2250</td>\n",
       "      <td>627</td>\n",
       "      <td>11.8</td>\n",
       "      <td>...</td>\n",
       "      <td>0.297577</td>\n",
       "      <td>0.562203</td>\n",
       "      <td>1</td>\n",
       "      <td>0</td>\n",
       "      <td>0</td>\n",
       "      <td>0</td>\n",
       "      <td>0</td>\n",
       "      <td>1</td>\n",
       "      <td>0</td>\n",
       "      <td>0</td>\n",
       "    </tr>\n",
       "    <tr>\n",
       "      <th>5</th>\n",
       "      <td>2019-10-04 10:04:19</td>\n",
       "      <td>-33.894879</td>\n",
       "      <td>151.182564</td>\n",
       "      <td>2019-10-04 10:18:19</td>\n",
       "      <td>-33.875360</td>\n",
       "      <td>151.203414</td>\n",
       "      <td>Newtown</td>\n",
       "      <td>3500</td>\n",
       "      <td>845</td>\n",
       "      <td>15.1</td>\n",
       "      <td>...</td>\n",
       "      <td>0.604386</td>\n",
       "      <td>0.115440</td>\n",
       "      <td>1</td>\n",
       "      <td>0</td>\n",
       "      <td>0</td>\n",
       "      <td>0</td>\n",
       "      <td>0</td>\n",
       "      <td>0</td>\n",
       "      <td>0</td>\n",
       "      <td>0</td>\n",
       "    </tr>\n",
       "  </tbody>\n",
       "</table>\n",
       "<p>5 rows × 29 columns</p>\n",
       "</div>"
      ],
      "text/plain": [
       "            M_On_Time   Lat_M_On   Long_M_On          M_Off_Time  Lat_M_Off  \\\n",
       "0 2019-07-23 06:54:39 -30.353364  153.094583 2019-07-23 07:03:24 -30.322766   \n",
       "1 2019-09-04 16:35:27 -30.310815  153.105125 2019-09-04 16:42:51 -30.287417   \n",
       "3 2019-08-29 20:04:59 -33.888697  151.208008 2019-08-29 20:21:39 -33.871832   \n",
       "4 2019-09-19 02:56:22 -33.883459  151.159525 2019-09-19 03:06:43 -33.896778   \n",
       "5 2019-10-04 10:04:19 -33.894879  151.182564 2019-10-04 10:18:19 -33.875360   \n",
       "\n",
       "   Long_M_Off            Dest_Suburb  DelJobDistance  DelJobTime  \\\n",
       "0  153.115583  Coffs Harbour Airport            6000         525   \n",
       "1  153.117083          Coffs Harbour            4150         444   \n",
       "3  151.252742          Bellevue Hill            7850        1000   \n",
       "4  151.152915               Ashfield            2250         627   \n",
       "5  151.203414                Newtown            3500         845   \n",
       "\n",
       "   ChargesPrice  ...  journey_displacement  journey_direction  City_Sydney  \\\n",
       "0          14.1  ...              0.770542           0.085097            0   \n",
       "1          10.9  ...              0.532431           0.066132            0   \n",
       "3          21.3  ...              1.064888           0.182123            1   \n",
       "4          11.8  ...              0.297577           0.562203            1   \n",
       "5          15.1  ...              0.604386           0.115440            1   \n",
       "\n",
       "   City_Tamworth  day_of_week_Monday  day_of_week_Saturday  \\\n",
       "0              0                   0                     0   \n",
       "1              0                   0                     0   \n",
       "3              0                   0                     0   \n",
       "4              0                   0                     0   \n",
       "5              0                   0                     0   \n",
       "\n",
       "   day_of_week_Sunday  day_of_week_Thursday  day_of_week_Tuesday  \\\n",
       "0                   0                     0                    1   \n",
       "1                   0                     0                    0   \n",
       "3                   0                     1                    0   \n",
       "4                   0                     1                    0   \n",
       "5                   0                     0                    0   \n",
       "\n",
       "   day_of_week_Wednesday  \n",
       "0                      0  \n",
       "1                      1  \n",
       "3                      0  \n",
       "4                      0  \n",
       "5                      0  \n",
       "\n",
       "[5 rows x 29 columns]"
      ]
     },
     "execution_count": 112,
     "metadata": {},
     "output_type": "execute_result"
    }
   ],
   "source": [
    "data.head()"
   ]
  },
  {
   "cell_type": "markdown",
   "metadata": {},
   "source": [
    "# Prediction Models"
   ]
  },
  {
   "cell_type": "code",
   "execution_count": 113,
   "metadata": {},
   "outputs": [],
   "source": [
    "dummy_cols = [col for col in data.columns if ('City_' in col) or ('day_of_week_' in col)]\n",
    "\n",
    "features = dummy_cols + ['DelJobDistance', 'DelJobTime',\n",
    "            'time_of_day', 'is_public_holiday', \n",
    "            'on_disp_from_city_centre',\n",
    "            'on_bearing_from_city_centre',\n",
    "            'journey_direction'\n",
    "            ]\n",
    "\n",
    "target = ['ChargesPrice']\n",
    "\n",
    "feature_names =['Sydney', 'Tamworth', \n",
    "                'Monday','Saturday','Sunday', 'Thursday','Tuesday', 'Wednesday', \n",
    "                'Distance', 'Time', 'Time of day', \n",
    "                'Public holiday', \n",
    "                'Starting geodesic distance from city centre', \n",
    "                'Starting direction from city centre', 'Journey direction'\n",
    "               ]\n"
   ]
  },
  {
   "cell_type": "code",
   "execution_count": 114,
   "metadata": {},
   "outputs": [],
   "source": [
    "x_train = data.loc[train_index, features].copy()\n",
    "y_train = data.loc[train_index, target].copy()\n",
    "\n",
    "x_test = data.loc[test_index, features].copy()\n",
    "y_test = data.loc[test_index, target].copy()"
   ]
  },
  {
   "cell_type": "code",
   "execution_count": 115,
   "metadata": {},
   "outputs": [],
   "source": [
    "# smaller random sample for quicker tuning\n",
    "\n",
    "x_train_sample = x_train.sample(10000, random_state=1234)\n",
    "y_train_sample = y_train.sample(10000, random_state=1234)"
   ]
  },
  {
   "cell_type": "markdown",
   "metadata": {},
   "source": [
    "# Evaluate predictions"
   ]
  },
  {
   "cell_type": "code",
   "execution_count": 116,
   "metadata": {},
   "outputs": [],
   "source": [
    "def evaluate(y_true, y_pred):    \n",
    "    errors = y_true - y_pred\n",
    "    \n",
    "    acc_10 = np.mean( (np.abs( errors/y_true ) <= 0.1).astype(int) )\n",
    "    \n",
    "    acc_20 = np.mean( (np.abs( errors/y_true ) <= 0.2).astype(int) )\n",
    "    \n",
    "    RMSE = np.sqrt( np.mean ( (errors)**2 ) )\n",
    "    \n",
    "    MAD = np.mean( np.abs( errors ) )\n",
    "    \n",
    "    MAPE = np.mean( np.abs( errors/y_true ) * 100 )\n",
    "    \n",
    "    print('Accuracy within 10%: {:.3f}'.format(acc_10))\n",
    "    print('Accuracy within 20%: {:.3f}'.format(acc_20))\n",
    "    print('RMSE:                {:.3f}'.format(RMSE))\n",
    "    print('MAD:                 {:.3f}'.format(MAD))\n",
    "    print('MAPE:                {:.3f}%'.format(MAPE))\n",
    "\n",
    "    return acc_10, acc_20, RMSE, MAD, MAPE"
   ]
  },
  {
   "cell_type": "markdown",
   "metadata": {},
   "source": [
    "## Extreme Gradient Boosting XGBoost"
   ]
  },
  {
   "cell_type": "markdown",
   "metadata": {},
   "source": [
    "### Find best parameters"
   ]
  },
  {
   "cell_type": "code",
   "execution_count": 22,
   "metadata": {},
   "outputs": [
    {
     "name": "stdout",
     "output_type": "stream",
     "text": [
      "Wall time: 0 ns\n"
     ]
    }
   ],
   "source": [
    "%%time\n",
    "\n",
    "xgboost = xgb.XGBRegressor()\n",
    "\n",
    "tuning_parameters = {\n",
    "    'learning_rate': [0.02, 0.05, 0.08, 0.1],\n",
    "    'n_estimators' : [1200, 1500, 1800, 2000],\n",
    "    'max_depth' : [3, 4, 5, 6],\n",
    "    'subsample' : [0.5, 0.8, 1.0],\n",
    "}\n",
    "\n",
    "gb_search = RandomizedSearchCV(xgboost, tuning_parameters, n_iter = 16, cv = 5, return_train_score=False, n_jobs=4,\n",
    "                              random_state = 20)\n",
    "\n",
    "# No need to run\n",
    "#gb_search.fit(x_train_sample, y_train_sample)\n",
    "#xbst = gb_search.best_estimator_\n",
    "\n",
    "#print('Best parameters found by randomised search:', gb_search.best_params_, '\\n')"
   ]
  },
  {
   "cell_type": "markdown",
   "metadata": {},
   "source": [
    "### Fit model to training data"
   ]
  },
  {
   "cell_type": "code",
   "execution_count": 24,
   "metadata": {},
   "outputs": [
    {
     "name": "stdout",
     "output_type": "stream",
     "text": [
      "Wall time: 0 ns\n"
     ]
    }
   ],
   "source": [
    "%%time\n",
    "params = {'subsample': 0.8, 'n_estimators': 1200, 'max_depth': 4, 'learning_rate': 0.02}\n",
    "xbst = xgb.XGBRegressor(objective='reg:squarederror',**params)"
   ]
  },
  {
   "cell_type": "code",
   "execution_count": null,
   "metadata": {},
   "outputs": [],
   "source": [
    "%%time\n",
    "xbst.fit(x_train, y_train)"
   ]
  },
  {
   "cell_type": "code",
   "execution_count": null,
   "metadata": {},
   "outputs": [],
   "source": [
    "y_pred_is = xbst.predict(x_train)\n",
    "\n",
    "print('In-sample measures:')\n",
    "acc_10, acc_20, RMSE, MAD, MAPE = evaluate(np.asarray(y_train).reshape(-1), np.asarray(y_pred_is))"
   ]
  },
  {
   "cell_type": "code",
   "execution_count": null,
   "metadata": {},
   "outputs": [],
   "source": [
    "y_pred = xbst.predict(x_test)\n",
    "\n",
    "print('Validation measures:')\n",
    "acc_10, acc_20, RMSE, MAD, MAPE = evaluate(np.asarray(y_test).reshape(-1), np.asarray(y_pred))"
   ]
  },
  {
   "cell_type": "markdown",
   "metadata": {},
   "source": [
    "### Plot feature importance"
   ]
  },
  {
   "cell_type": "code",
   "execution_count": 23,
   "metadata": {},
   "outputs": [],
   "source": [
    "def bar(labels, importance, name):\n",
    "    df = pd.DataFrame()\n",
    "    df['labels'] = labels\n",
    "    df['importance'] = importance\n",
    "\n",
    "    df = df.sort_values('importance')\n",
    "    plt.figure(dpi=300)\n",
    "\n",
    "    plt.barh(df['labels'], df['importance'])\n",
    "    plt.xlabel('Relative importance')\n",
    "    \n",
    "    plt.savefig(name)"
   ]
  },
  {
   "cell_type": "code",
   "execution_count": null,
   "metadata": {},
   "outputs": [],
   "source": [
    "bar(feature_names, (xbst.feature_importances_), 'xgbst_importance_bar_15.png')"
   ]
  },
  {
   "cell_type": "markdown",
   "metadata": {},
   "source": [
    "# Evaluate Final Model on Test Set"
   ]
  },
  {
   "cell_type": "markdown",
   "metadata": {},
   "source": [
    "### Load and pre-processs test data"
   ]
  },
  {
   "cell_type": "code",
   "execution_count": 156,
   "metadata": {},
   "outputs": [],
   "source": [
    "test_data = pd.read_excel('A2B_Validation_Dataset_v2.xlsx')"
   ]
  },
  {
   "cell_type": "code",
   "execution_count": 151,
   "metadata": {},
   "outputs": [],
   "source": [
    "#test_data.drop(columns=['Unnamed: 0', 'BookingID'], inplace=True)\n",
    "\n",
    "test_data['M_On_Time'] = pd.to_datetime(test_data['M_On_Time'])\n",
    "test_data['M_Off_Time'] = pd.to_datetime(test_data['M_Off_Time'])"
   ]
  },
  {
   "cell_type": "code",
   "execution_count": 138,
   "metadata": {},
   "outputs": [
    {
     "data": {
      "text/html": [
       "<div>\n",
       "<style scoped>\n",
       "    .dataframe tbody tr th:only-of-type {\n",
       "        vertical-align: middle;\n",
       "    }\n",
       "\n",
       "    .dataframe tbody tr th {\n",
       "        vertical-align: top;\n",
       "    }\n",
       "\n",
       "    .dataframe thead th {\n",
       "        text-align: right;\n",
       "    }\n",
       "</style>\n",
       "<table border=\"1\" class=\"dataframe\">\n",
       "  <thead>\n",
       "    <tr style=\"text-align: right;\">\n",
       "      <th></th>\n",
       "      <th>M_On_Time</th>\n",
       "      <th>Lat_M_On</th>\n",
       "      <th>Long_M_On</th>\n",
       "      <th>M_Off_Time</th>\n",
       "      <th>Lat_M_Off</th>\n",
       "      <th>Long_M_Off</th>\n",
       "      <th>City</th>\n",
       "      <th>Dest_Suburb</th>\n",
       "      <th>DelJobDistance</th>\n",
       "      <th>DelJobTime</th>\n",
       "    </tr>\n",
       "  </thead>\n",
       "  <tbody>\n",
       "    <tr>\n",
       "      <th>0</th>\n",
       "      <td>2019-07-31 09:46:29</td>\n",
       "      <td>-33.888076</td>\n",
       "      <td>151.250466</td>\n",
       "      <td>2019-07-31 10:02:57</td>\n",
       "      <td>-33.866181</td>\n",
       "      <td>151.208214</td>\n",
       "      <td>Sydney</td>\n",
       "      <td>Woollahra</td>\n",
       "      <td>6500</td>\n",
       "      <td>988</td>\n",
       "    </tr>\n",
       "    <tr>\n",
       "      <th>1</th>\n",
       "      <td>2019-09-25 10:10:11</td>\n",
       "      <td>-30.308583</td>\n",
       "      <td>153.097583</td>\n",
       "      <td>2019-09-25 10:19:53</td>\n",
       "      <td>-30.295804</td>\n",
       "      <td>153.112208</td>\n",
       "      <td>Tamworth</td>\n",
       "      <td>Coffs Harbour</td>\n",
       "      <td>2600</td>\n",
       "      <td>581</td>\n",
       "    </tr>\n",
       "    <tr>\n",
       "      <th>2</th>\n",
       "      <td>2019-10-23 11:16:57</td>\n",
       "      <td>-33.884341</td>\n",
       "      <td>151.249567</td>\n",
       "      <td>2019-10-23 11:24:32</td>\n",
       "      <td>-33.891694</td>\n",
       "      <td>151.252091</td>\n",
       "      <td>Sydney</td>\n",
       "      <td>Bellevue Hill</td>\n",
       "      <td>1550</td>\n",
       "      <td>456</td>\n",
       "    </tr>\n",
       "    <tr>\n",
       "      <th>3</th>\n",
       "      <td>2019-09-08 18:54:37</td>\n",
       "      <td>-33.863193</td>\n",
       "      <td>151.213925</td>\n",
       "      <td>2019-09-08 19:04:48</td>\n",
       "      <td>-33.883792</td>\n",
       "      <td>151.230299</td>\n",
       "      <td>Sydney</td>\n",
       "      <td>Paddington</td>\n",
       "      <td>3900</td>\n",
       "      <td>612</td>\n",
       "    </tr>\n",
       "    <tr>\n",
       "      <th>4</th>\n",
       "      <td>2019-08-25 09:57:07</td>\n",
       "      <td>-33.849820</td>\n",
       "      <td>151.217599</td>\n",
       "      <td>2019-08-25 10:00:27</td>\n",
       "      <td>-33.846256</td>\n",
       "      <td>151.212690</td>\n",
       "      <td>Sydney</td>\n",
       "      <td>Kirribilli</td>\n",
       "      <td>700</td>\n",
       "      <td>201</td>\n",
       "    </tr>\n",
       "  </tbody>\n",
       "</table>\n",
       "</div>"
      ],
      "text/plain": [
       "            M_On_Time   Lat_M_On   Long_M_On          M_Off_Time  Lat_M_Off  \\\n",
       "0 2019-07-31 09:46:29 -33.888076  151.250466 2019-07-31 10:02:57 -33.866181   \n",
       "1 2019-09-25 10:10:11 -30.308583  153.097583 2019-09-25 10:19:53 -30.295804   \n",
       "2 2019-10-23 11:16:57 -33.884341  151.249567 2019-10-23 11:24:32 -33.891694   \n",
       "3 2019-09-08 18:54:37 -33.863193  151.213925 2019-09-08 19:04:48 -33.883792   \n",
       "4 2019-08-25 09:57:07 -33.849820  151.217599 2019-08-25 10:00:27 -33.846256   \n",
       "\n",
       "   Long_M_Off      City    Dest_Suburb  DelJobDistance  DelJobTime  \n",
       "0  151.208214    Sydney      Woollahra            6500         988  \n",
       "1  153.112208  Tamworth  Coffs Harbour            2600         581  \n",
       "2  151.252091    Sydney  Bellevue Hill            1550         456  \n",
       "3  151.230299    Sydney     Paddington            3900         612  \n",
       "4  151.212690    Sydney     Kirribilli             700         201  "
      ]
     },
     "execution_count": 138,
     "metadata": {},
     "output_type": "execute_result"
    }
   ],
   "source": [
    "test_data.head()"
   ]
  },
  {
   "cell_type": "code",
   "execution_count": 139,
   "metadata": {},
   "outputs": [],
   "source": [
    "test_data['City'].where((test_data['City']=='Sydney') | (test_data['Long_M_On']<=152), 'Coffs Harbour', inplace=True)\n",
    "\n",
    "test_data['day_of_week'] = [weekday_names[i] for i in test_data['M_On_Time'].dt.dayofweek]\n",
    "test_data['time_of_day'] = (test_data['M_On_Time'].dt.hour + test_data['M_On_Time'].dt.minute/60) /  24    # between 0 and 1\n",
    "\n",
    "# Labour day public holiday 7th October 2019\n",
    "test_data['is_public_holiday'] = ((test_data['M_On_Time'].dt.date == datetime.strptime('2019-10-07','%Y-%m-%d').date()) & \n",
    "                                 ((test_data['M_On_Time'].dt.hour>=6) & \n",
    "                                  (test_data['M_On_Time'].dt.hour<22)))\n",
    "\n",
    "test_data['is_daylight'] = ((test_data['M_On_Time'].dt.hour>=6) & (test_data['M_On_Time'].dt.hour<22))"
   ]
  },
  {
   "cell_type": "code",
   "execution_count": 140,
   "metadata": {},
   "outputs": [],
   "source": [
    "test_data['on_disp_from_city_centre'] = np.nan\n",
    "test_data['off_disp_from_city_centre'] = np.nan\n",
    "test_data['on_bearing_from_city_centre'] = np.nan\n",
    "test_data['off_bearing_from_city_centre'] = np.nan\n",
    "\n",
    "for city, city_centre in zip(city_names, city_centres):\n",
    "\n",
    "    test_data.loc[test_data['City']==city,['on_disp_from_city_centre']] = dist_lat_long(city_centre[0], \n",
    "                                                                                        city_centre[1], \n",
    "                                                                                        test_data.loc[test_data['City']==city]['Lat_M_On'], \n",
    "                                                                                        test_data.loc[test_data['City']==city]['Long_M_On'])\n",
    "    test_data.loc[test_data['City']==city,['off_disp_from_city_centre']] = dist_lat_long(city_centre[0], \n",
    "                                                                                        city_centre[1], \n",
    "                                                                                        test_data.loc[test_data['City']==city]['Lat_M_Off'], \n",
    "                                                                                        test_data.loc[test_data['City']==city]['Long_M_Off'])\n",
    "\n",
    "    test_data.loc[test_data['City']==city,['on_bearing_from_city_centre']] = bearing_lat_long(city_centre[0], \n",
    "                                                                                            city_centre[1],\n",
    "                                                                                            test_data.loc[test_data['City']==city]['Lat_M_On'], \n",
    "                                                                                            test_data.loc[test_data['City']==city]['Long_M_On'])\n",
    "    test_data.loc[test_data['City']==city,['off_bearing_from_city_centre']] = bearing_lat_long(city_centre[0], \n",
    "                                                                                                   city_centre[1],\n",
    "                                                                                                   test_data.loc[test_data['City']==city]['Lat_M_Off'], \n",
    "                                                                                                   test_data.loc[test_data['City']==city]['Long_M_Off'])\n",
    "                        \n",
    "        \n",
    "test_data['journey_displacement'] = dist_lat_long(test_data['Lat_M_Off'], test_data['Long_M_Off'], \n",
    "                                                  test_data['Lat_M_On'], test_data['Long_M_On'])\n",
    "\n",
    "test_data['journey_direction'] = journey_direction(test_data['Lat_M_Off'], test_data['Long_M_Off'], \n",
    "                                                   test_data['Lat_M_On'], test_data['Long_M_On'])"
   ]
  },
  {
   "cell_type": "code",
   "execution_count": 141,
   "metadata": {},
   "outputs": [],
   "source": [
    "# Standardise\n",
    "\n",
    "for col, scaler in zip(standardise_distance_columns, dist_scalers):\n",
    "    #scaler = StandardScaler(with_mean=False).fit(data.loc[train_index, [col]]) # train on the training set\n",
    "    \n",
    "    test_data[col] = scaler.transform(test_data[col].values.reshape(-1,1))\n",
    "    \n",
    "\n",
    "for col in standardise_direction_columns:\n",
    "    test_data[col] = scale_direction(test_data[col])"
   ]
  },
  {
   "cell_type": "code",
   "execution_count": 142,
   "metadata": {},
   "outputs": [],
   "source": [
    "test_data = pd.get_dummies(test_data, drop_first=True, columns=['City', 'day_of_week'])"
   ]
  },
  {
   "cell_type": "code",
   "execution_count": 143,
   "metadata": {},
   "outputs": [],
   "source": [
    "x_final_test = test_data[features].copy()"
   ]
  },
  {
   "cell_type": "markdown",
   "metadata": {},
   "source": [
    "## Train on entire training set"
   ]
  },
  {
   "cell_type": "code",
   "execution_count": 117,
   "metadata": {},
   "outputs": [],
   "source": [
    "x_all = data[features].copy()\n",
    "y_all = data[target].copy()"
   ]
  },
  {
   "cell_type": "code",
   "execution_count": 118,
   "metadata": {},
   "outputs": [
    {
     "data": {
      "text/plain": [
       "XGBRegressor(base_score=0.5, booster=None, colsample_bylevel=1,\n",
       "             colsample_bynode=1, colsample_bytree=1, gamma=0, gpu_id=-1,\n",
       "             importance_type='gain', interaction_constraints=None,\n",
       "             learning_rate=0.02, max_delta_step=0, max_depth=4,\n",
       "             min_child_weight=1, missing=nan, monotone_constraints=None,\n",
       "             n_estimators=1200, n_jobs=0, num_parallel_tree=1,\n",
       "             objective='reg:squarederror', random_state=0, reg_alpha=0,\n",
       "             reg_lambda=1, scale_pos_weight=1, subsample=0.8, tree_method=None,\n",
       "             validate_parameters=False, verbosity=None)"
      ]
     },
     "execution_count": 118,
     "metadata": {},
     "output_type": "execute_result"
    }
   ],
   "source": [
    "xbst_final = xgb.XGBRegressor(objective='reg:squarederror',**params)\n",
    "xbst_final.fit(x_all, y_all)"
   ]
  },
  {
   "cell_type": "code",
   "execution_count": 126,
   "metadata": {},
   "outputs": [],
   "source": [
    "# Save to binary\n",
    "xbst_final.save_model('Group2XGBoost-FinalTrainedModel.bin')"
   ]
  },
  {
   "cell_type": "markdown",
   "metadata": {},
   "source": [
    "# Final Test Predictions"
   ]
  },
  {
   "cell_type": "code",
   "execution_count": 144,
   "metadata": {},
   "outputs": [],
   "source": [
    "# Load saved final model\n",
    "final_model = xgb.XGBRegressor() \n",
    "final_model.load_model('Group2XGBoost-FinalTrainedModel.bin')"
   ]
  },
  {
   "cell_type": "code",
   "execution_count": 160,
   "metadata": {},
   "outputs": [],
   "source": [
    "y_test_pred = final_model.predict(x_final_test)\n",
    "\n",
    "# Save final predictions\n",
    "predictions = test_data[['Unnamed: 0', 'BookingID']].copy()\n",
    "predictions['ChargesPrice'] = y_test_pred\n",
    "predictions.to_csv('QBUS3600GroupAssignmentGroup2S12020-Predictions.csv')"
   ]
  }
 ],
 "metadata": {
  "kernelspec": {
   "display_name": "Python 3",
   "language": "python",
   "name": "python3"
  },
  "language_info": {
   "codemirror_mode": {
    "name": "ipython",
    "version": 3
   },
   "file_extension": ".py",
   "mimetype": "text/x-python",
   "name": "python",
   "nbconvert_exporter": "python",
   "pygments_lexer": "ipython3",
   "version": "3.7.6"
  }
 },
 "nbformat": 4,
 "nbformat_minor": 4
}
